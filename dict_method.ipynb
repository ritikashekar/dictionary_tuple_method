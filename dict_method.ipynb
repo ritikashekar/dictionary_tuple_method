{
 "cells": [
  {
   "cell_type": "markdown",
   "metadata": {},
   "source": [
    "# Dictionary Methods in Python"
   ]
  },
  {
   "cell_type": "markdown",
   "metadata": {},
   "source": [
    "## clear()"
   ]
  },
  {
   "cell_type": "code",
   "execution_count": 1,
   "metadata": {},
   "outputs": [
    {
     "name": "stdout",
     "output_type": "stream",
     "text": [
      "{'name': 'Riya', 'age': 23, 'salary': 50000}\n",
      "{}\n"
     ]
    }
   ],
   "source": [
    "emp = {\n",
    "    'name':'Riya',\n",
    "    'age':23,\n",
    "    'salary':50000\n",
    "}\n",
    "print(emp)\n",
    "\n",
    "emp.clear()\n",
    "print(emp)"
   ]
  },
  {
   "cell_type": "markdown",
   "metadata": {},
   "source": [
    "## copy()"
   ]
  },
  {
   "cell_type": "code",
   "execution_count": 2,
   "metadata": {},
   "outputs": [
    {
     "name": "stdout",
     "output_type": "stream",
     "text": [
      "{'India': 200, 'USA': 700, 'Japan': 500}\n"
     ]
    }
   ],
   "source": [
    "sales = {\n",
    "    'India': 200,\n",
    "    'USA': 700,\n",
    "    'Japan': 500\n",
    "}\n",
    "\n",
    "new_sales = sales.copy()\n",
    "print(new_sales)"
   ]
  },
  {
   "cell_type": "markdown",
   "metadata": {},
   "source": [
    "## fromkeys()"
   ]
  },
  {
   "cell_type": "code",
   "execution_count": 3,
   "metadata": {},
   "outputs": [
    {
     "name": "stdout",
     "output_type": "stream",
     "text": [
      "{'p1': 0, 'p2': 0, 'p3': 0}\n"
     ]
    }
   ],
   "source": [
    "x = ('p1', 'p2','p3')\n",
    "y = 0\n",
    "\n",
    "dict1 = dict.fromkeys(x,y)\n",
    "print(dict1)"
   ]
  },
  {
   "cell_type": "markdown",
   "metadata": {},
   "source": [
    "## get()"
   ]
  },
  {
   "cell_type": "code",
   "execution_count": 4,
   "metadata": {},
   "outputs": [
    {
     "name": "stdout",
     "output_type": "stream",
     "text": [
      "50000\n"
     ]
    }
   ],
   "source": [
    "emp = {\n",
    "    'name':'Riya',\n",
    "    'age':23,\n",
    "    'salary':50000\n",
    "}\n",
    "\n",
    "x = emp.get('salary')\n",
    "print(x)"
   ]
  },
  {
   "cell_type": "markdown",
   "metadata": {},
   "source": [
    "## items()"
   ]
  },
  {
   "cell_type": "code",
   "execution_count": 5,
   "metadata": {},
   "outputs": [
    {
     "name": "stdout",
     "output_type": "stream",
     "text": [
      "dict_items([('name1', 'Apple'), ('name2', 'Orange'), ('name3', 'Kiwi')])\n"
     ]
    }
   ],
   "source": [
    "dict= {\n",
    "    'name1': 'Apple',\n",
    "    'name2': 'Orange',\n",
    "    'name3': 'Kiwi'\n",
    "}\n",
    "\n",
    "dict1 = dict.items()\n",
    "print(dict1)"
   ]
  },
  {
   "cell_type": "markdown",
   "metadata": {},
   "source": [
    "## keys()"
   ]
  },
  {
   "cell_type": "code",
   "execution_count": 6,
   "metadata": {},
   "outputs": [
    {
     "name": "stdout",
     "output_type": "stream",
     "text": [
      "dict_keys(['name', 'age', 'salary'])\n"
     ]
    }
   ],
   "source": [
    "emp = {\n",
    "    'name':'Riya',\n",
    "    'age':23,\n",
    "    'salary':50000\n",
    "}\n",
    "\n",
    "x = emp.keys()\n",
    "print(x)"
   ]
  },
  {
   "cell_type": "markdown",
   "metadata": {},
   "source": [
    "## pop()\n"
   ]
  },
  {
   "cell_type": "code",
   "execution_count": 7,
   "metadata": {},
   "outputs": [
    {
     "name": "stdout",
     "output_type": "stream",
     "text": [
      "{'name': 'Riya', 'salary': 50000}\n"
     ]
    }
   ],
   "source": [
    "emp = {\n",
    "    'name':'Riya',\n",
    "    'age':23,\n",
    "    'salary':50000\n",
    "}\n",
    "\n",
    "emp.pop('age')\n",
    "print(emp)"
   ]
  },
  {
   "cell_type": "markdown",
   "metadata": {},
   "source": [
    "## popitem()\n"
   ]
  },
  {
   "cell_type": "code",
   "execution_count": 8,
   "metadata": {},
   "outputs": [
    {
     "name": "stdout",
     "output_type": "stream",
     "text": [
      "{'fruit': 'Apple', 'color': 'Red'}\n"
     ]
    }
   ],
   "source": [
    "dict = {\n",
    "    'fruit': 'Apple',\n",
    "    'color': 'Red',\n",
    "    'test': 'good'\n",
    "}\n",
    "\n",
    "dict.popitem()\n",
    "print(dict)"
   ]
  },
  {
   "cell_type": "markdown",
   "metadata": {},
   "source": [
    "## setdefault()"
   ]
  },
  {
   "cell_type": "code",
   "execution_count": 9,
   "metadata": {},
   "outputs": [
    {
     "name": "stdout",
     "output_type": "stream",
     "text": [
      "Red\n"
     ]
    }
   ],
   "source": [
    "dict = {\n",
    "    'fruit': 'Apple',\n",
    "    'color': 'Red',\n",
    "    'test': 'good'\n",
    "}\n",
    "\n",
    "x = dict.setdefault('color','pink')\n",
    "print(x)"
   ]
  },
  {
   "cell_type": "markdown",
   "metadata": {},
   "source": [
    "## update()\n",
    "\n"
   ]
  },
  {
   "cell_type": "code",
   "execution_count": 10,
   "metadata": {},
   "outputs": [
    {
     "name": "stdout",
     "output_type": "stream",
     "text": [
      "{'name': 'Emma', 'age': 22, 'city': 'New City', 'country': 'India'}\n"
     ]
    }
   ],
   "source": [
    "dict ={\n",
    "    'name': 'Emma',\n",
    "    'age': 22,\n",
    "    'city':'New City'\n",
    "}\n",
    "\n",
    "dict.update({'country': 'India'})\n",
    "print(dict)"
   ]
  },
  {
   "cell_type": "markdown",
   "metadata": {},
   "source": [
    "## values()"
   ]
  },
  {
   "cell_type": "code",
   "execution_count": 11,
   "metadata": {},
   "outputs": [
    {
     "name": "stdout",
     "output_type": "stream",
     "text": [
      "dict_values(['Emma', 22, 'New City'])\n"
     ]
    }
   ],
   "source": [
    "dict ={\n",
    "    'name': 'Emma',\n",
    "    'age': 22,\n",
    "    'city':'New City'\n",
    "}\n",
    "\n",
    "x = dict.values()\n",
    "print(x)\n"
   ]
  },
  {
   "cell_type": "markdown",
   "metadata": {},
   "source": [
    "# Tuple Methods "
   ]
  },
  {
   "cell_type": "markdown",
   "metadata": {},
   "source": [
    "## count()"
   ]
  },
  {
   "cell_type": "code",
   "execution_count": 13,
   "metadata": {},
   "outputs": [
    {
     "name": "stdout",
     "output_type": "stream",
     "text": [
      "3\n"
     ]
    }
   ],
   "source": [
    "arr = (1,3,4,9,3,8,2,3,7)\n",
    "\n",
    "tp1 = arr.count(3)\n",
    "print(tp1)"
   ]
  },
  {
   "cell_type": "markdown",
   "metadata": {},
   "source": [
    "## index()"
   ]
  },
  {
   "cell_type": "code",
   "execution_count": 15,
   "metadata": {},
   "outputs": [
    {
     "name": "stdout",
     "output_type": "stream",
     "text": [
      "2\n"
     ]
    }
   ],
   "source": [
    "arr = (1,3,4,9,3,8,2,3,7)\n",
    "\n",
    "tp1 = arr.index(4)\n",
    "print(tp1)"
   ]
  }
 ],
 "metadata": {
  "kernelspec": {
   "display_name": "Python 3",
   "language": "python",
   "name": "python3"
  },
  "language_info": {
   "codemirror_mode": {
    "name": "ipython",
    "version": 3
   },
   "file_extension": ".py",
   "mimetype": "text/x-python",
   "name": "python",
   "nbconvert_exporter": "python",
   "pygments_lexer": "ipython3",
   "version": "3.12.4"
  }
 },
 "nbformat": 4,
 "nbformat_minor": 2
}
